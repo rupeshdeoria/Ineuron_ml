{
 "cells": [
  {
   "cell_type": "code",
   "execution_count": 100,
   "metadata": {},
   "outputs": [
    {
     "data": {
      "text/plain": [
       "'2128,2954,2779,2758,2828,2142,2373,2163,2177,2842,2093,2086,2023,3066,2037,2296,2352,2793,2079,2646,2856,2009,2919,2072,2324,3136,2429,2534,2058,3087,2618,2226,2744,2527,3031,2247,2772,2359,2254,2681,2639,2562,2723,3178,2653,2394,2688,2261,3052,2576,2478,3094,2184,2366,2051,2737,3143,2541,2982,2212,3164,2401,2583,2807,2331,2408,2149,2604,2667,2891,2947,3129,2492,3038,2233,3157,2464,2863,2702,2569,3171,3108,2268,2107,2989,3073,2513,3059,2289,2786,3199,2198,2926,2219,2422,2436,2191,2597,2303,2387,2121,2849,2156,2282,2751,3003,3024,2632,2821,2457,2968,2611,2961,2933,2317,3017,2002,2338,2716,2912,3122,2898,2877,3101,2709,3192,2114,2016,2471,2443,2506,2996,2044,2674,2814,2499,2548,2884'"
      ]
     },
     "execution_count": 100,
     "metadata": {},
     "output_type": "execute_result"
    }
   ],
   "source": [
    "','.join(list(set([(lambda x: str(x) if x%7==0 and x%5!=0 else '') (x) for x in range(2000,3201)]))[1:])"
   ]
  },
  {
   "cell_type": "code",
   "execution_count": 103,
   "metadata": {},
   "outputs": [
    {
     "name": "stdout",
     "output_type": "stream",
     "text": [
      "Enter your name: rupesh kumar singh\n"
     ]
    },
    {
     "data": {
      "text/plain": [
       "'hgnis ramuk hsepur'"
      ]
     },
     "execution_count": 103,
     "metadata": {},
     "output_type": "execute_result"
    }
   ],
   "source": [
    "name = input(\"Enter your name: \") \n",
    "name[::-1]"
   ]
  },
  {
   "cell_type": "code",
   "execution_count": 108,
   "metadata": {},
   "outputs": [
    {
     "name": "stdout",
     "output_type": "stream",
     "text": [
      "Enter your radius: 60\n",
      "15552.000000000002\n"
     ]
    }
   ],
   "source": [
    "radius = input(\"Enter your radius: \") \n",
    "if radius.isdigit():\n",
    "    radius = int(radius)\n",
    "    volume = (4/3)*(3.24)*(radius*radius)\n",
    "    print(volume)\n",
    "else:\n",
    "    print('input not correct')"
   ]
  },
  {
   "cell_type": "code",
   "execution_count": null,
   "metadata": {},
   "outputs": [],
   "source": []
  }
 ],
 "metadata": {
  "kernelspec": {
   "display_name": "Python 3",
   "language": "python",
   "name": "python3"
  },
  "language_info": {
   "codemirror_mode": {
    "name": "ipython",
    "version": 3
   },
   "file_extension": ".py",
   "mimetype": "text/x-python",
   "name": "python",
   "nbconvert_exporter": "python",
   "pygments_lexer": "ipython3",
   "version": "3.8.5"
  }
 },
 "nbformat": 4,
 "nbformat_minor": 4
}
